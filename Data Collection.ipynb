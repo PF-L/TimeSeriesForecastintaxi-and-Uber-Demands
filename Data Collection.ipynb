{
 "cells": [
  {
   "cell_type": "code",
   "execution_count": 14,
   "metadata": {},
   "outputs": [],
   "source": [
    "import pandas as pd\n",
    "import numpy as np\n",
    "import dask.dataframe as dd\n",
    "import os \n",
    "os.chdir(\"/Users/liupengfei/Downloads/nyc2014\")"
   ]
  },
  {
   "cell_type": "code",
   "execution_count": 16,
   "metadata": {},
   "outputs": [],
   "source": [
    "g1=pd.read_csv(\"/Users/liupengfei/Downloads/nyc2014/rawgreen2014/green_1.csv\")\n",
    "g2=pd.read_csv(\"/Users/liupengfei/Downloads/nyc2014/rawgreen2014/green_2.csv\")"
   ]
  },
  {
   "cell_type": "code",
   "execution_count": 17,
   "metadata": {},
   "outputs": [
    {
     "data": {
      "text/html": [
       "<div>\n",
       "<style scoped>\n",
       "    .dataframe tbody tr th:only-of-type {\n",
       "        vertical-align: middle;\n",
       "    }\n",
       "\n",
       "    .dataframe tbody tr th {\n",
       "        vertical-align: top;\n",
       "    }\n",
       "\n",
       "    .dataframe thead th {\n",
       "        text-align: right;\n",
       "    }\n",
       "</style>\n",
       "<table border=\"1\" class=\"dataframe\">\n",
       "  <thead>\n",
       "    <tr style=\"text-align: right;\">\n",
       "      <th></th>\n",
       "      <th>pickup_datetime</th>\n",
       "      <th>dropoff_datetime</th>\n",
       "      <th>trip_duration</th>\n",
       "      <th>trip_distance</th>\n",
       "      <th>pickup_long</th>\n",
       "      <th>pickup_lat</th>\n",
       "      <th>dropoff_long</th>\n",
       "      <th>dropoff_lat</th>\n",
       "      <th>passenger_count</th>\n",
       "      <th>fare_amount</th>\n",
       "      <th>tolls_amount</th>\n",
       "      <th>total_amount</th>\n",
       "    </tr>\n",
       "  </thead>\n",
       "  <tbody>\n",
       "    <tr>\n",
       "      <th>0</th>\n",
       "      <td>2014-09-20 04:21:08 UTC</td>\n",
       "      <td>2014-09-20 04:31:00 UTC</td>\n",
       "      <td>592</td>\n",
       "      <td>2.10</td>\n",
       "      <td>-73.860</td>\n",
       "      <td>40.840</td>\n",
       "      <td>-73.839</td>\n",
       "      <td>40.828</td>\n",
       "      <td>1</td>\n",
       "      <td>0.0</td>\n",
       "      <td>0.0</td>\n",
       "      <td>0.0</td>\n",
       "    </tr>\n",
       "    <tr>\n",
       "      <th>1</th>\n",
       "      <td>2014-04-29 07:23:13 UTC</td>\n",
       "      <td>2014-04-29 07:39:51 UTC</td>\n",
       "      <td>998</td>\n",
       "      <td>3.50</td>\n",
       "      <td>-73.929</td>\n",
       "      <td>40.836</td>\n",
       "      <td>-73.890</td>\n",
       "      <td>40.873</td>\n",
       "      <td>1</td>\n",
       "      <td>0.0</td>\n",
       "      <td>0.0</td>\n",
       "      <td>0.0</td>\n",
       "    </tr>\n",
       "    <tr>\n",
       "      <th>2</th>\n",
       "      <td>2014-06-24 18:12:46 UTC</td>\n",
       "      <td>2014-06-24 18:18:53 UTC</td>\n",
       "      <td>367</td>\n",
       "      <td>1.20</td>\n",
       "      <td>-73.810</td>\n",
       "      <td>40.714</td>\n",
       "      <td>-73.796</td>\n",
       "      <td>40.705</td>\n",
       "      <td>1</td>\n",
       "      <td>0.0</td>\n",
       "      <td>0.0</td>\n",
       "      <td>2.0</td>\n",
       "    </tr>\n",
       "    <tr>\n",
       "      <th>3</th>\n",
       "      <td>2014-04-12 10:36:57 UTC</td>\n",
       "      <td>2014-04-12 10:38:05 UTC</td>\n",
       "      <td>68</td>\n",
       "      <td>0.26</td>\n",
       "      <td>-73.874</td>\n",
       "      <td>40.742</td>\n",
       "      <td>-73.878</td>\n",
       "      <td>40.740</td>\n",
       "      <td>1</td>\n",
       "      <td>3.0</td>\n",
       "      <td>0.0</td>\n",
       "      <td>3.5</td>\n",
       "    </tr>\n",
       "    <tr>\n",
       "      <th>4</th>\n",
       "      <td>2014-06-29 16:02:01 UTC</td>\n",
       "      <td>2014-06-29 16:02:50 UTC</td>\n",
       "      <td>49</td>\n",
       "      <td>0.24</td>\n",
       "      <td>-73.932</td>\n",
       "      <td>40.796</td>\n",
       "      <td>-73.937</td>\n",
       "      <td>40.804</td>\n",
       "      <td>1</td>\n",
       "      <td>3.0</td>\n",
       "      <td>0.0</td>\n",
       "      <td>3.5</td>\n",
       "    </tr>\n",
       "  </tbody>\n",
       "</table>\n",
       "</div>"
      ],
      "text/plain": [
       "           pickup_datetime         dropoff_datetime  trip_duration  \\\n",
       "0  2014-09-20 04:21:08 UTC  2014-09-20 04:31:00 UTC            592   \n",
       "1  2014-04-29 07:23:13 UTC  2014-04-29 07:39:51 UTC            998   \n",
       "2  2014-06-24 18:12:46 UTC  2014-06-24 18:18:53 UTC            367   \n",
       "3  2014-04-12 10:36:57 UTC  2014-04-12 10:38:05 UTC             68   \n",
       "4  2014-06-29 16:02:01 UTC  2014-06-29 16:02:50 UTC             49   \n",
       "\n",
       "   trip_distance  pickup_long  pickup_lat  dropoff_long  dropoff_lat  \\\n",
       "0           2.10      -73.860      40.840       -73.839       40.828   \n",
       "1           3.50      -73.929      40.836       -73.890       40.873   \n",
       "2           1.20      -73.810      40.714       -73.796       40.705   \n",
       "3           0.26      -73.874      40.742       -73.878       40.740   \n",
       "4           0.24      -73.932      40.796       -73.937       40.804   \n",
       "\n",
       "   passenger_count  fare_amount  tolls_amount  total_amount  \n",
       "0                1          0.0           0.0           0.0  \n",
       "1                1          0.0           0.0           0.0  \n",
       "2                1          0.0           0.0           2.0  \n",
       "3                1          3.0           0.0           3.5  \n",
       "4                1          3.0           0.0           3.5  "
      ]
     },
     "execution_count": 17,
     "metadata": {},
     "output_type": "execute_result"
    }
   ],
   "source": [
    "green_raw = pd.concat([g1, g2], axis=0)\n",
    "green_raw.head()"
   ]
  },
  {
   "cell_type": "code",
   "execution_count": 10,
   "metadata": {},
   "outputs": [
    {
     "ename": "NameError",
     "evalue": "name 'green_raw' is not defined",
     "output_type": "error",
     "traceback": [
      "\u001b[0;31m---------------------------------------------------------------------------\u001b[0m",
      "\u001b[0;31mNameError\u001b[0m                                 Traceback (most recent call last)",
      "\u001b[0;32m<ipython-input-10-227915237e4a>\u001b[0m in \u001b[0;36m<module>\u001b[0;34m\u001b[0m\n\u001b[1;32m      1\u001b[0m \u001b[0;31m## green table\u001b[0m\u001b[0;34m\u001b[0m\u001b[0;34m\u001b[0m\u001b[0m\n\u001b[0;32m----> 2\u001b[0;31m \u001b[0mgreen_raw\u001b[0m\u001b[0;34m.\u001b[0m\u001b[0mcolumns\u001b[0m \u001b[0;34m=\u001b[0m\u001b[0;34m[\u001b[0m\u001b[0mc\u001b[0m\u001b[0;34m.\u001b[0m\u001b[0mreplace\u001b[0m\u001b[0;34m(\u001b[0m\u001b[0;34m\"\"\u001b[0m\u001b[0;34m,\u001b[0m\u001b[0;34m\"\"\u001b[0m\u001b[0;34m)\u001b[0m \u001b[0;32mfor\u001b[0m \u001b[0mc\u001b[0m \u001b[0;32min\u001b[0m \u001b[0mgreen_raw\u001b[0m\u001b[0;34m.\u001b[0m\u001b[0mcolumns\u001b[0m\u001b[0;34m]\u001b[0m\u001b[0;34m\u001b[0m\u001b[0m\n\u001b[0m\u001b[1;32m      3\u001b[0m \u001b[0mgreen_raw\u001b[0m\u001b[0;34m.\u001b[0m\u001b[0mindex\u001b[0m\u001b[0;34m=\u001b[0m\u001b[0mnp\u001b[0m\u001b[0;34m.\u001b[0m\u001b[0marange\u001b[0m\u001b[0;34m(\u001b[0m\u001b[0mgreen_raw\u001b[0m\u001b[0;34m.\u001b[0m\u001b[0mshape\u001b[0m\u001b[0;34m[\u001b[0m\u001b[0;36m0\u001b[0m\u001b[0;34m]\u001b[0m\u001b[0;34m)\u001b[0m\u001b[0;34m\u001b[0m\u001b[0m\n\u001b[1;32m      4\u001b[0m \u001b[0mgreen\u001b[0m \u001b[0;34m=\u001b[0m \u001b[0mgreen_raw\u001b[0m\u001b[0;34m[\u001b[0m\u001b[0;34m[\u001b[0m\u001b[0;34m'pickup_datetime'\u001b[0m\u001b[0;34m,\u001b[0m \u001b[0;34m'dropoff_datetime'\u001b[0m\u001b[0;34m,\u001b[0m \u001b[0;34m'pickup_lat'\u001b[0m\u001b[0;34m,\u001b[0m \u001b[0;34m'pickup_long'\u001b[0m\u001b[0;34m,\u001b[0m \u001b[0;34m'trip_duration'\u001b[0m\u001b[0;34m,\u001b[0m \u001b[0;34m'trip_distance'\u001b[0m\u001b[0;34m]\u001b[0m\u001b[0;34m]\u001b[0m\u001b[0;34m\u001b[0m\u001b[0m\n\u001b[1;32m      5\u001b[0m \u001b[0mgreen\u001b[0m\u001b[0;34m.\u001b[0m\u001b[0mcolumns\u001b[0m\u001b[0;34m=\u001b[0m\u001b[0;34m[\u001b[0m\u001b[0;34m'pickup_datetime'\u001b[0m\u001b[0;34m,\u001b[0m \u001b[0;34m'dropoff_datetime'\u001b[0m\u001b[0;34m,\u001b[0m\u001b[0;34m'Lat'\u001b[0m\u001b[0;34m,\u001b[0m \u001b[0;34m'Lon'\u001b[0m\u001b[0;34m,\u001b[0m \u001b[0;34m'trip_duration'\u001b[0m\u001b[0;34m,\u001b[0m \u001b[0;34m'trip_distance'\u001b[0m\u001b[0;34m]\u001b[0m\u001b[0;34m\u001b[0m\u001b[0m\n",
      "\u001b[0;31mNameError\u001b[0m: name 'green_raw' is not defined"
     ]
    }
   ],
   "source": [
    "## green table\n",
    "green_raw.columns =[c.replace(\"\",\"\") for c in green_raw.columns]\n",
    "green_raw.index=np.arange(green_raw.shape[0])\n",
    "green = green_raw[['pickup_datetime', 'dropoff_datetime', 'pickup_lat', 'pickup_long', 'trip_duration', 'trip_distance']]\n",
    "green.columns=['pickup_datetime', 'dropoff_datetime','Lat', 'Lon', 'trip_duration', 'trip_distance']\n",
    "green['type'] =\"green\"\n",
    "green.head()"
   ]
  },
  {
   "cell_type": "code",
   "execution_count": 11,
   "metadata": {},
   "outputs": [],
   "source": [
    "green.to_csv(\"green_data.csv\")"
   ]
  },
  {
   "cell_type": "code",
   "execution_count": 12,
   "metadata": {},
   "outputs": [],
   "source": [
    "u1=pd.read_csv(\"uber_apr.csv\")\n",
    "u2=pd.read_csv(\"uber_may.csv\")\n",
    "u3=pd.read_csv(\"uber_jun.csv\")\n",
    "u4=pd.read_csv(\"uber_jul.csv\")\n",
    "u5=pd.read_csv(\"uber_aug.csv\")\n",
    "u6=pd.read_csv(\"uber_sep.csv\")"
   ]
  },
  {
   "cell_type": "code",
   "execution_count": 13,
   "metadata": {},
   "outputs": [
    {
     "data": {
      "text/html": [
       "<div>\n",
       "<style scoped>\n",
       "    .dataframe tbody tr th:only-of-type {\n",
       "        vertical-align: middle;\n",
       "    }\n",
       "\n",
       "    .dataframe tbody tr th {\n",
       "        vertical-align: top;\n",
       "    }\n",
       "\n",
       "    .dataframe thead th {\n",
       "        text-align: right;\n",
       "    }\n",
       "</style>\n",
       "<table border=\"1\" class=\"dataframe\">\n",
       "  <thead>\n",
       "    <tr style=\"text-align: right;\">\n",
       "      <th></th>\n",
       "      <th>Date/Time</th>\n",
       "      <th>Lat</th>\n",
       "      <th>Lon</th>\n",
       "      <th>Base</th>\n",
       "    </tr>\n",
       "  </thead>\n",
       "  <tbody>\n",
       "    <tr>\n",
       "      <th>0</th>\n",
       "      <td>4/1/2014 0:11:00</td>\n",
       "      <td>40.7690</td>\n",
       "      <td>-73.9549</td>\n",
       "      <td>B02512</td>\n",
       "    </tr>\n",
       "    <tr>\n",
       "      <th>1</th>\n",
       "      <td>4/1/2014 0:17:00</td>\n",
       "      <td>40.7267</td>\n",
       "      <td>-74.0345</td>\n",
       "      <td>B02512</td>\n",
       "    </tr>\n",
       "    <tr>\n",
       "      <th>2</th>\n",
       "      <td>4/1/2014 0:21:00</td>\n",
       "      <td>40.7316</td>\n",
       "      <td>-73.9873</td>\n",
       "      <td>B02512</td>\n",
       "    </tr>\n",
       "    <tr>\n",
       "      <th>3</th>\n",
       "      <td>4/1/2014 0:28:00</td>\n",
       "      <td>40.7588</td>\n",
       "      <td>-73.9776</td>\n",
       "      <td>B02512</td>\n",
       "    </tr>\n",
       "    <tr>\n",
       "      <th>4</th>\n",
       "      <td>4/1/2014 0:33:00</td>\n",
       "      <td>40.7594</td>\n",
       "      <td>-73.9722</td>\n",
       "      <td>B02512</td>\n",
       "    </tr>\n",
       "  </tbody>\n",
       "</table>\n",
       "</div>"
      ],
      "text/plain": [
       "          Date/Time      Lat      Lon    Base\n",
       "0  4/1/2014 0:11:00  40.7690 -73.9549  B02512\n",
       "1  4/1/2014 0:17:00  40.7267 -74.0345  B02512\n",
       "2  4/1/2014 0:21:00  40.7316 -73.9873  B02512\n",
       "3  4/1/2014 0:28:00  40.7588 -73.9776  B02512\n",
       "4  4/1/2014 0:33:00  40.7594 -73.9722  B02512"
      ]
     },
     "execution_count": 13,
     "metadata": {},
     "output_type": "execute_result"
    }
   ],
   "source": [
    "uber_raw = pd.concat([u1,u2,u3,u4,u5,u6], axis=0)\n",
    "uber_raw.head()"
   ]
  },
  {
   "cell_type": "code",
   "execution_count": 14,
   "metadata": {},
   "outputs": [],
   "source": [
    "uber_raw.columns=['pickup_datetime', 'Lat', 'Lon', 'Base']\n",
    "uber_raw.drop(['Base'], axis=1, inplace=True)\n",
    "uber_raw[\"type\"]=\"uber\"\n",
    "uber_raw[\"pickup_datetime\"]=pd.to_datetime(uber_raw[\"pickup_datetime\"]).dt.strftime('%Y-%m-%d-%H')"
   ]
  },
  {
   "cell_type": "code",
   "execution_count": 15,
   "metadata": {},
   "outputs": [],
   "source": [
    "uber_raw.to_csv(\"uber_data.csv\")"
   ]
  },
  {
   "cell_type": "code",
   "execution_count": 4,
   "metadata": {},
   "outputs": [],
   "source": [
    "os.chdir(\"/Users/liupengfei/Downloads/nyc2014/rawyellow2014\")\n",
    "y1=pd.read_csv(\"y1.csv\")\n",
    "y2=pd.read_csv(\"y2.csv\")\n",
    "y3=pd.read_csv(\"y3.csv\")"
   ]
  },
  {
   "cell_type": "code",
   "execution_count": 5,
   "metadata": {},
   "outputs": [],
   "source": [
    "yellow_raw = pd.concat([y1, y2,y3], axis=0)\n"
   ]
  },
  {
   "cell_type": "code",
   "execution_count": 7,
   "metadata": {},
   "outputs": [
    {
     "name": "stderr",
     "output_type": "stream",
     "text": [
      "/Library/Frameworks/Python.framework/Versions/3.7/lib/python3.7/site-packages/ipykernel_launcher.py:5: SettingWithCopyWarning: \n",
      "A value is trying to be set on a copy of a slice from a DataFrame.\n",
      "Try using .loc[row_indexer,col_indexer] = value instead\n",
      "\n",
      "See the caveats in the documentation: http://pandas.pydata.org/pandas-docs/stable/indexing.html#indexing-view-versus-copy\n",
      "  \"\"\"\n"
     ]
    }
   ],
   "source": [
    "yellow_raw.columns =[c.replace(\"\",\"\") for c in yellow_raw.columns]\n",
    "yellow_raw.index=np.arange(yellow_raw.shape[0])\n",
    "yellow = yellow_raw[['pickup_datetime', 'dropoff_datetime', 'pickup_lat', 'pickup_long', 'trip_duration', 'trip_distance']]\n",
    "yellow.columns=['pickup_datetime', 'dropoff_datetime','Lat', 'Lon', 'trip_duration', 'trip_distance']\n",
    "yellow['type'] =\"yellow\""
   ]
  },
  {
   "cell_type": "code",
   "execution_count": 8,
   "metadata": {},
   "outputs": [],
   "source": [
    "yellow.to_csv(\"yellow_data.csv\")"
   ]
  },
  {
   "cell_type": "code",
   "execution_count": null,
   "metadata": {},
   "outputs": [],
   "source": []
  }
 ],
 "metadata": {
  "kernelspec": {
   "display_name": "Python 3",
   "language": "python",
   "name": "python3"
  },
  "language_info": {
   "codemirror_mode": {
    "name": "ipython",
    "version": 3
   },
   "file_extension": ".py",
   "mimetype": "text/x-python",
   "name": "python",
   "nbconvert_exporter": "python",
   "pygments_lexer": "ipython3",
   "version": "3.7.0"
  }
 },
 "nbformat": 4,
 "nbformat_minor": 2
}
